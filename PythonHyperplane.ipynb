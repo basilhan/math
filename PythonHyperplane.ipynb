{
 "cells": [
  {
   "cell_type": "markdown",
   "metadata": {},
   "source": [
    "## The Hyperplane"
   ]
  },
  {
   "cell_type": "markdown",
   "metadata": {},
   "source": [
    "#### Introduction\n",
    "\n",
    "A hyperplane in a $n$-dimensional space $\\mathcal{H}$ is described by the set\n",
    "\n",
    "$$\n",
    "\\{\\mathbf{x} \\in \\mathcal{H} \\mid b + \\mathbf{w}^\\mathsf{T}\\mathbf{x} = 0 \\}\n",
    "$$\n",
    "\n",
    "where $\\mathbf{w} \\in \\mathcal{H}$ and $b \\in \\mathbb{R}$. In other words, it is fully defined by a vector in that space and a scalar."
   ]
  },
  {
   "cell_type": "markdown",
   "metadata": {},
   "source": [
    "#### Boundary Surface\n",
    "\n",
    "As a hyperplane divides $\\mathcal{H}$ into two half-spaces, it has been employed by machine learning models like logistic regression and support vector machine to define the decision boundary of a binary classifier. Generally, we think of one of the half-spaces as positive and the other as negative. The positive class is the set $\\{\\mathbf{x} \\in \\mathcal{H} \\mid b + \\mathbf{w}^\\mathsf{T}\\mathbf{x} \\geq 0 \\}$ and the negative class is the set $\\{\\mathbf{x} \\in \\mathcal{H} \\mid b + \\mathbf{w}^\\mathsf{T}\\mathbf{x} \\lt 0 \\}$."
   ]
  },
  {
   "cell_type": "markdown",
   "metadata": {},
   "source": [
    "Permalink : https://nbviewer.jupyter.org/github/basilhan/math/blob/master/PythonHyperplane.ipynb"
   ]
  }
 ],
 "metadata": {
  "anaconda-cloud": {},
  "kernelspec": {
   "display_name": "Python [default]",
   "language": "python",
   "name": "python3"
  },
  "language_info": {
   "codemirror_mode": {
    "name": "ipython",
    "version": 3
   },
   "file_extension": ".py",
   "mimetype": "text/x-python",
   "name": "python",
   "nbconvert_exporter": "python",
   "pygments_lexer": "ipython3",
   "version": "3.5.2"
  }
 },
 "nbformat": 4,
 "nbformat_minor": 1
}
