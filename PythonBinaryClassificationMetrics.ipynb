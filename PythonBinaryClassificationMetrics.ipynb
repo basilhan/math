{
 "cells": [
  {
   "cell_type": "markdown",
   "metadata": {},
   "source": [
    "## Binary Classification Metrics"
   ]
  },
  {
   "cell_type": "markdown",
   "metadata": {},
   "source": [
    "### The Classification Problem\n",
    "\n",
    "Members of a population can each have one of two states : positive or negative.  \n",
    "Suppose the actual states of a population (indexed 0 to 9) are :  \n",
    "[-, -, -, <span style=\"color:red\">+</span>, -, +, -, -, -, **<span style=\"color:red\">-</span>**].  \n",
    "In real life, as no predictor is perfect, the predicted states could be :  \n",
    "[-, -, -, **<span style=\"color:red\">-</span>**, -, +, -, -, -, <span style=\"color:red\">+</span>].  \n",
    "In the above case, we see that there are two misclassifications while most of the members have been classified correctly.\n"
   ]
  },
  {
   "cell_type": "markdown",
   "metadata": {},
   "source": [
    "### Type I and Type II Errors\n",
    "\n",
    "A false positive (FP) is also known as Type I error.  \n",
    "A false negative (FN) is also known as Type II error.  \n",
    "Here is an illustration to demonstrate the two types of error in a real-life situation.  \n",
    "\n",
    "<img src=\"https://github.com/basilhan/figures/blob/master/Type_I_n_Type_II_Errors.png?raw=true\">"
   ]
  },
  {
   "cell_type": "markdown",
   "metadata": {},
   "source": [
    "### Accuracy\n",
    "\n",
    "$$\n",
    "Accuracy = \n",
    "\\frac{TP + TN}{TP + FP + TN + FN}\n",
    "$$\n",
    "\n",
    "<img src=\"https://github.com/basilhan/figures/blob/master/Accuracy.png?raw=true\">"
   ]
  },
  {
   "cell_type": "markdown",
   "metadata": {},
   "source": [
    "### Precision \n",
    "\n",
    "$$\n",
    "Precision = \n",
    "\\frac{TP}{TP + FP}\n",
    "$$\n",
    "\n",
    "<img src=\"https://github.com/basilhan/figures/blob/master/Precision.png?raw=true\">\n",
    "\n",
    "- It is a measure of the usefulness of the positive predictions.\n",
    "- The higher the precision, the higher the number of predicted positives are true.\n",
    "- It is also known as **Positive Predictive Value**."
   ]
  },
  {
   "cell_type": "markdown",
   "metadata": {},
   "source": [
    "### Recall\n",
    "\n",
    "$$\n",
    "Recall = \n",
    "\\frac{TP}{TP + FN}\n",
    "$$\n",
    "\n",
    "<img src=\"https://github.com/basilhan/figures/blob/master/Recall.png?raw=true\">\n",
    "\n",
    "- It is a measure of the completeness of the positive predictions.\n",
    "- The higher the recall, the higher the probability of an actual positive case being predicted correctly.\n",
    "- It is also known as **Sensitivity**, **Power** or **True Positive Rate**."
   ]
  },
  {
   "cell_type": "markdown",
   "metadata": {},
   "source": [
    "### Specificity\n",
    "\n",
    "$$\n",
    "Specificity = \n",
    "\\frac{TN}{TN + FP}\n",
    "$$\n",
    "\n",
    "<img src=\"https://github.com/basilhan/figures/blob/master/Specificity.png?raw=true\">\n",
    "\n",
    "- The higher the specificity, the higher the probability of an actual negative case being predicted correctly."
   ]
  },
  {
   "cell_type": "markdown",
   "metadata": {},
   "source": [
    "### F1 Score\n",
    "\n",
    "$$\n",
    "F1 = \n",
    "2\\cdot\\frac{Precision\\times Recall}{Precision + Recall}\n",
    "$$\n",
    "\n",
    "- This is the harmonic mean of precision and recall and necessarily lies between them."
   ]
  },
  {
   "cell_type": "markdown",
   "metadata": {},
   "source": [
    "\n",
    "Permalink : https://nbviewer.jupyter.org/github/basilhan/math/blob/master/PythonBinaryClassificationMetrics.ipynb"
   ]
  }
 ],
 "metadata": {
  "kernelspec": {
   "display_name": "Python 3",
   "language": "python",
   "name": "python3"
  },
  "language_info": {
   "codemirror_mode": {
    "name": "ipython",
    "version": 3
   },
   "file_extension": ".py",
   "mimetype": "text/x-python",
   "name": "python",
   "nbconvert_exporter": "python",
   "pygments_lexer": "ipython3",
   "version": "3.6.1"
  }
 },
 "nbformat": 4,
 "nbformat_minor": 2
}
